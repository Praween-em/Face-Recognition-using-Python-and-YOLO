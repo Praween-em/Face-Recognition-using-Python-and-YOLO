{
 "cells": [
  {
   "cell_type": "code",
   "execution_count": 7,
   "id": "d2a41bac",
   "metadata": {},
   "outputs": [
    {
     "name": "stdout",
     "output_type": "stream",
     "text": [
      "24-02-17 13:58:09 - ⚠️ Function detectFace is deprecated. Use extract_faces instead.\n"
     ]
    },
    {
     "ename": "NameError",
     "evalue": "name 'detected_face' is not defined",
     "output_type": "error",
     "traceback": [
      "\u001b[1;31m---------------------------------------------------------------------------\u001b[0m",
      "\u001b[1;31mNameError\u001b[0m                                 Traceback (most recent call last)",
      "Cell \u001b[1;32mIn[7], line 15\u001b[0m\n\u001b[0;32m     13\u001b[0m \u001b[38;5;66;03m# Perform face detection\u001b[39;00m\n\u001b[0;32m     14\u001b[0m detected_faces \u001b[38;5;241m=\u001b[39m DeepFace\u001b[38;5;241m.\u001b[39mdetectFace(input_image, detector_backend\u001b[38;5;241m=\u001b[39m\u001b[38;5;124m'\u001b[39m\u001b[38;5;124mssd\u001b[39m\u001b[38;5;124m'\u001b[39m)\n\u001b[1;32m---> 15\u001b[0m \u001b[38;5;28;01mif\u001b[39;00m(detected_face):\n\u001b[0;32m     16\u001b[0m     \u001b[38;5;28mprint\u001b[39m(\u001b[38;5;124m\"\u001b[39m\u001b[38;5;124myes\u001b[39m\u001b[38;5;124m\"\u001b[39m)\n",
      "\u001b[1;31mNameError\u001b[0m: name 'detected_face' is not defined"
     ]
    }
   ],
   "source": [
    "import cv2\n",
    "from deepface import DeepFace\n",
    "\n",
    "# Load pre-trained models\n",
    "face_recognition_model = DeepFace.build_model(\"Facenet\")\n",
    "emotion_detection_model = DeepFace.build_model(\"Emotion\")\n",
    "age_gender_model = DeepFace.build_model(\"Age\")\n",
    "\n",
    "# Load input image\n",
    "input_image_path = \"52kbself.jpg\"\n",
    "input_image = cv2.imread(input_image_path)\n",
    "\n",
    "# Perform face detection\n",
    "detected_faces = DeepFace.detectFace(input_image, detector_backend='ssd')\n",
    "if(detected_faces):\n",
    "    print(\"yes\")\n"
   ]
  },
  {
   "cell_type": "code",
   "execution_count": 3,
   "id": "e2cf16d6",
   "metadata": {},
   "outputs": [
    {
     "data": {
      "text/plain": [
       "[{'emotion': {'angry': 0.12488388456404209,\n",
       "   'disgust': 8.045440127914943e-12,\n",
       "   'fear': 0.0003385908939890214,\n",
       "   'happy': 0.0005069872713647783,\n",
       "   'sad': 0.1631061313673854,\n",
       "   'surprise': 7.558256243100914e-07,\n",
       "   'neutral': 99.71116781234741},\n",
       "  'dominant_emotion': 'neutral',\n",
       "  'region': {'x': 140, 'y': 89, 'w': 261, 'h': 261},\n",
       "  'face_confidence': 10.638591992144939,\n",
       "  'age': 24,\n",
       "  'gender': {'Woman': 0.0043670857849065214, 'Man': 99.99563694000244},\n",
       "  'dominant_gender': 'Man',\n",
       "  'race': {'asian': 1.222735530003043,\n",
       "   'indian': 86.42532744558618,\n",
       "   'black': 1.2369859769633995,\n",
       "   'white': 0.16724348366594216,\n",
       "   'middle eastern': 0.09854989480897157,\n",
       "   'latino hispanic': 10.849156877348237},\n",
       "  'dominant_race': 'indian'}]"
      ]
     },
     "execution_count": 3,
     "metadata": {},
     "output_type": "execute_result"
    }
   ],
   "source": [
    "obj"
   ]
  }
 ],
 "metadata": {
  "kernelspec": {
   "display_name": "Python 3 (ipykernel)",
   "language": "python",
   "name": "python3"
  },
  "language_info": {
   "codemirror_mode": {
    "name": "ipython",
    "version": 3
   },
   "file_extension": ".py",
   "mimetype": "text/x-python",
   "name": "python",
   "nbconvert_exporter": "python",
   "pygments_lexer": "ipython3",
   "version": "3.11.5"
  }
 },
 "nbformat": 4,
 "nbformat_minor": 5
}
