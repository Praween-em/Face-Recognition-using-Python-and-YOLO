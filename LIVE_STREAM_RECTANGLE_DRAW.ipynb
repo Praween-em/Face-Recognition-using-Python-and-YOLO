{
 "cells": [
  {
   "cell_type": "code",
   "execution_count": 1,
   "id": "bd545c5e",
   "metadata": {},
   "outputs": [
    {
     "name": "stdout",
     "output_type": "stream",
     "text": [
      "WARNING:tensorflow:From C:\\Users\\praween\\anaconda3\\Lib\\site-packages\\keras\\src\\losses.py:2976: The name tf.losses.sparse_softmax_cross_entropy is deprecated. Please use tf.compat.v1.losses.sparse_softmax_cross_entropy instead.\n",
      "\n"
     ]
    },
    {
     "data": {
      "text/plain": [
       "<function destroyAllWindows>"
      ]
     },
     "execution_count": 1,
     "metadata": {},
     "output_type": "execute_result"
    }
   ],
   "source": [
    "import cv2,time \n",
    "from deepface import DeepFace\n",
    "import numpy as np\n",
    "\n",
    "face_cascade=cv2.CascadeClassifier(\"haarcascade_frontalface_default.xml\")\n",
    "#address='http://192.168.72.163:8080/video'\n",
    "video=cv2.VideoCapture(0)\n",
    "\n",
    "while True:\n",
    "    check,frame=video.read()\n",
    "    gray=cv2.cvtColor(frame,cv2.COLOR_BGR2GRAY)\n",
    "    face =face_cascade.detectMultiScale(gray,scaleFactor=1.1,minNeighbors=5)\n",
    "    analyze=DeepFace.analyze(frame,actions=['emotion'],enforce_detection=False)\n",
    "    result = analyze[0]\n",
    "    \n",
    "    for x,y,w,h in face:\n",
    "        img = cv2.rectangle(frame,(x,y),(x+w,y+h),(0,255,0),3)\n",
    "        emotion = cv2.putText(img,result['dominant_emotion'],(250,250),cv2.FONT_HERSHEY_SIMPLEX ,1,(250,250,250),2,cv2.LINE_AA)\n",
    "    cv2.imshow(\"gottcha\",frame)\n",
    "    key=cv2.waitKey(1)\n",
    "    \n",
    "    if key==ord('q'):\n",
    "        break\n",
    "\n",
    "video.release()\n",
    "cv2.destroyAllWindows"
   ]
  },
  {
   "cell_type": "code",
   "execution_count": null,
   "id": "735a0661",
   "metadata": {},
   "outputs": [],
   "source": []
  },
  {
   "cell_type": "code",
   "execution_count": 1,
   "id": "67aa86da",
   "metadata": {},
   "outputs": [
    {
     "name": "stdout",
     "output_type": "stream",
     "text": [
      "WARNING:tensorflow:From C:\\Users\\praween\\anaconda3\\Lib\\site-packages\\keras\\src\\losses.py:2976: The name tf.losses.sparse_softmax_cross_entropy is deprecated. Please use tf.compat.v1.losses.sparse_softmax_cross_entropy instead.\n",
      "\n"
     ]
    }
   ],
   "source": [
    "import cv2\n",
    "from deepface import DeepFace\n",
    "import matplotlib.pyplot as plt\n",
    "imagepath = '10.png'\n",
    "image=cv2.imread(imagepath)\n",
    "model = 'Facenet'\n",
    "#analyze = DeepFace.analyze(image,actions=['emotion'])\n",
    "#face = DeepFace.extract_faces(imagepath,enforce_detection=False,detector_backend='retinaface')\n",
    "#imagee=DeepFace.detectFace(imagepath,enforce_detection=False)\n",
    "x,y,w,h = 101,67,52,67,\n",
    "cv2.rectangle(image, (x, y), (x + w, y + h), (0,255,0), 2)\n",
    "cv2.imshow(\"nolos\",image)\n",
    "#print(face)\n",
    "#plt.imshow(imagee)"
   ]
  },
  {
   "cell_type": "code",
   "execution_count": 12,
   "id": "9b6f9d0f",
   "metadata": {},
   "outputs": [
    {
     "ename": "error",
     "evalue": "OpenCV(4.9.0) :-1: error: (-5:Bad argument) in function 'imshow'\n> Overload resolution failed:\n>  - imshow() missing required argument 'mat' (pos 2)\n>  - imshow() missing required argument 'mat' (pos 2)\n>  - imshow() missing required argument 'mat' (pos 2)\n",
     "output_type": "error",
     "traceback": [
      "\u001b[1;31m---------------------------------------------------------------------------\u001b[0m",
      "\u001b[1;31merror\u001b[0m                                     Traceback (most recent call last)",
      "Cell \u001b[1;32mIn[12], line 1\u001b[0m\n\u001b[1;32m----> 1\u001b[0m cv2\u001b[38;5;241m.\u001b[39mimshow(face)\n",
      "\u001b[1;31merror\u001b[0m: OpenCV(4.9.0) :-1: error: (-5:Bad argument) in function 'imshow'\n> Overload resolution failed:\n>  - imshow() missing required argument 'mat' (pos 2)\n>  - imshow() missing required argument 'mat' (pos 2)\n>  - imshow() missing required argument 'mat' (pos 2)\n"
     ]
    }
   ],
   "source": []
  },
  {
   "cell_type": "code",
   "execution_count": 1,
   "id": "6c80bdba",
   "metadata": {},
   "outputs": [],
   "source": [
    "import cv2\n",
    "\n",
    "# Load the image\n",
    "image = cv2.imread('10.png')\n",
    "\n",
    "# Define the coordinates and dimensions of the detected facial area\n",
    "x, y, w, h = 101, 67, 52, 67  # Example coordinates and dimensions\n",
    "\n",
    "# Draw a rectangle around the detected facial area\n",
    "cv2.rectangle(image, (x, y), (x + w, y + h), (0, 255, 0), 2)\n",
    "\n",
    "# Display the image with the rectangle drawn around the detected facial area\n",
    "cv2.imshow('Detected Face', image)\n",
    "cv2.waitKey(0)\n",
    "cv2.destroyAllWindows()\n"
   ]
  },
  {
   "cell_type": "code",
   "execution_count": null,
   "id": "49948187",
   "metadata": {},
   "outputs": [],
   "source": []
  }
 ],
 "metadata": {
  "kernelspec": {
   "display_name": "Python 3 (ipykernel)",
   "language": "python",
   "name": "python3"
  },
  "language_info": {
   "codemirror_mode": {
    "name": "ipython",
    "version": 3
   },
   "file_extension": ".py",
   "mimetype": "text/x-python",
   "name": "python",
   "nbconvert_exporter": "python",
   "pygments_lexer": "ipython3",
   "version": "3.11.5"
  }
 },
 "nbformat": 4,
 "nbformat_minor": 5
}
